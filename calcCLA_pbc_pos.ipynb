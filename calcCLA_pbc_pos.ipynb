{
 "cells": [
  {
   "cell_type": "code",
   "execution_count": 1,
   "metadata": {},
   "outputs": [
    {
     "name": "stderr",
     "output_type": "stream",
     "text": [
      "Loading required package: dplyr\n",
      "\n",
      "Attaching package: ‘dplyr’\n",
      "\n",
      "The following objects are masked from ‘package:stats’:\n",
      "\n",
      "    filter, lag\n",
      "\n",
      "The following objects are masked from ‘package:base’:\n",
      "\n",
      "    intersect, setdiff, setequal, union\n",
      "\n",
      "Loading required package: tibble\n",
      "Loading required package: tidyr\n",
      "Loading required package: reshape2\n",
      "\n",
      "Attaching package: ‘reshape2’\n",
      "\n",
      "The following object is masked from ‘package:tidyr’:\n",
      "\n",
      "    smiths\n",
      "\n",
      "Loading required package: ggplot2\n",
      "Loading required package: colorRamps\n"
     ]
    }
   ],
   "source": [
    "require(dplyr)\n",
    "require(tibble)\n",
    "require(tidyr)\n",
    "require(reshape2)\n",
    "require(ggplot2)\n",
    "require(colorRamps)"
   ]
  },
  {
   "cell_type": "code",
   "execution_count": 2,
   "metadata": {},
   "outputs": [
    {
     "data": {
      "text/html": [
       "<table>\n",
       "<thead><tr><th scope=col>Frame</th><th scope=col>MEASUREMENT</th><th scope=col>X</th><th scope=col>Y</th><th scope=col>Z</th></tr></thead>\n",
       "<tbody>\n",
       "\t<tr><td>0        </td><td>Vec_00000</td><td>177.0536 </td><td>199.1626 </td><td> 25.40681</td></tr>\n",
       "\t<tr><td>1        </td><td>Vec_00000</td><td>160.4837 </td><td>136.5072 </td><td>102.85232</td></tr>\n",
       "\t<tr><td>2        </td><td>Vec_00000</td><td>161.3828 </td><td>139.2563 </td><td>103.74570</td></tr>\n",
       "\t<tr><td>3        </td><td>Vec_00000</td><td>163.0884 </td><td>139.4902 </td><td> 98.64247</td></tr>\n",
       "\t<tr><td>4        </td><td>Vec_00000</td><td>164.7033 </td><td>142.8944 </td><td> 94.31529</td></tr>\n",
       "\t<tr><td>5        </td><td>Vec_00000</td><td>163.6647 </td><td>140.9599 </td><td> 87.79234</td></tr>\n",
       "</tbody>\n",
       "</table>\n"
      ],
      "text/latex": [
       "\\begin{tabular}{r|lllll}\n",
       " Frame & MEASUREMENT & X & Y & Z\\\\\n",
       "\\hline\n",
       "\t 0           & Vec\\_00000 & 177.0536    & 199.1626    &  25.40681  \\\\\n",
       "\t 1           & Vec\\_00000 & 160.4837    & 136.5072    & 102.85232  \\\\\n",
       "\t 2           & Vec\\_00000 & 161.3828    & 139.2563    & 103.74570  \\\\\n",
       "\t 3           & Vec\\_00000 & 163.0884    & 139.4902    &  98.64247  \\\\\n",
       "\t 4           & Vec\\_00000 & 164.7033    & 142.8944    &  94.31529  \\\\\n",
       "\t 5           & Vec\\_00000 & 163.6647    & 140.9599    &  87.79234  \\\\\n",
       "\\end{tabular}\n"
      ],
      "text/markdown": [
       "\n",
       "Frame | MEASUREMENT | X | Y | Z | \n",
       "|---|---|---|---|---|---|\n",
       "| 0         | Vec_00000 | 177.0536  | 199.1626  |  25.40681 | \n",
       "| 1         | Vec_00000 | 160.4837  | 136.5072  | 102.85232 | \n",
       "| 2         | Vec_00000 | 161.3828  | 139.2563  | 103.74570 | \n",
       "| 3         | Vec_00000 | 163.0884  | 139.4902  |  98.64247 | \n",
       "| 4         | Vec_00000 | 164.7033  | 142.8944  |  94.31529 | \n",
       "| 5         | Vec_00000 | 163.6647  | 140.9599  |  87.79234 | \n",
       "\n",
       "\n"
      ],
      "text/plain": [
       "  Frame MEASUREMENT X        Y        Z        \n",
       "1 0     Vec_00000   177.0536 199.1626  25.40681\n",
       "2 1     Vec_00000   160.4837 136.5072 102.85232\n",
       "3 2     Vec_00000   161.3828 139.2563 103.74570\n",
       "4 3     Vec_00000   163.0884 139.4902  98.64247\n",
       "5 4     Vec_00000   164.7033 142.8944  94.31529\n",
       "6 5     Vec_00000   163.6647 140.9599  87.79234"
      ]
     },
     "metadata": {},
     "output_type": "display_data"
    },
    {
     "data": {
      "text/plain": [
       "     Min.   1st Qu.    Median      Mean   3rd Qu.      Max. \n",
       "  0.00018  22.67220  92.63228  73.45989 116.58449 143.59898 "
      ]
     },
     "metadata": {},
     "output_type": "display_data"
    },
    {
     "name": "stdout",
     "output_type": "stream",
     "text": [
      "'data.frame':\t1273572 obs. of  5 variables:\n",
      " $ Frame      : int  0 1 2 3 4 5 6 7 8 9 ...\n",
      " $ MEASUREMENT: Factor w/ 612 levels \"Vec_00000\",\"Vec_00001\",..: 1 1 1 1 1 1 1 1 1 1 ...\n",
      " $ X          : num  177 160 161 163 165 ...\n",
      " $ Y          : num  199 137 139 139 143 ...\n",
      " $ Z          : num  25.4 102.9 103.7 98.6 94.3 ...\n"
     ]
    },
    {
     "data": {
      "text/html": [
       "<table>\n",
       "<thead><tr><th scope=col>Frame</th><th scope=col>MEASUREMENT</th><th scope=col>X</th><th scope=col>Y</th><th scope=col>Z</th><th scope=col>newZ</th><th scope=col>class</th></tr></thead>\n",
       "<tbody>\n",
       "\t<tr><td>0        </td><td>Vec_00000</td><td>177.0536 </td><td>199.1626 </td><td> 25.40681</td><td> 25.40681</td><td>-1       </td></tr>\n",
       "\t<tr><td>1        </td><td>Vec_00000</td><td>160.4837 </td><td>136.5072 </td><td>102.85232</td><td>102.85232</td><td> 1       </td></tr>\n",
       "\t<tr><td>2        </td><td>Vec_00000</td><td>161.3828 </td><td>139.2563 </td><td>103.74570</td><td>103.74570</td><td> 1       </td></tr>\n",
       "\t<tr><td>3        </td><td>Vec_00000</td><td>163.0884 </td><td>139.4902 </td><td> 98.64247</td><td> 98.64247</td><td> 1       </td></tr>\n",
       "\t<tr><td>4        </td><td>Vec_00000</td><td>164.7033 </td><td>142.8944 </td><td> 94.31529</td><td> 94.31529</td><td> 1       </td></tr>\n",
       "\t<tr><td>5        </td><td>Vec_00000</td><td>163.6647 </td><td>140.9599 </td><td> 87.79234</td><td> 87.79234</td><td> 1       </td></tr>\n",
       "</tbody>\n",
       "</table>\n"
      ],
      "text/latex": [
       "\\begin{tabular}{r|lllllll}\n",
       " Frame & MEASUREMENT & X & Y & Z & newZ & class\\\\\n",
       "\\hline\n",
       "\t 0           & Vec\\_00000 & 177.0536    & 199.1626    &  25.40681   &  25.40681   & -1         \\\\\n",
       "\t 1           & Vec\\_00000 & 160.4837    & 136.5072    & 102.85232   & 102.85232   &  1         \\\\\n",
       "\t 2           & Vec\\_00000 & 161.3828    & 139.2563    & 103.74570   & 103.74570   &  1         \\\\\n",
       "\t 3           & Vec\\_00000 & 163.0884    & 139.4902    &  98.64247   &  98.64247   &  1         \\\\\n",
       "\t 4           & Vec\\_00000 & 164.7033    & 142.8944    &  94.31529   &  94.31529   &  1         \\\\\n",
       "\t 5           & Vec\\_00000 & 163.6647    & 140.9599    &  87.79234   &  87.79234   &  1         \\\\\n",
       "\\end{tabular}\n"
      ],
      "text/markdown": [
       "\n",
       "Frame | MEASUREMENT | X | Y | Z | newZ | class | \n",
       "|---|---|---|---|---|---|\n",
       "| 0         | Vec_00000 | 177.0536  | 199.1626  |  25.40681 |  25.40681 | -1        | \n",
       "| 1         | Vec_00000 | 160.4837  | 136.5072  | 102.85232 | 102.85232 |  1        | \n",
       "| 2         | Vec_00000 | 161.3828  | 139.2563  | 103.74570 | 103.74570 |  1        | \n",
       "| 3         | Vec_00000 | 163.0884  | 139.4902  |  98.64247 |  98.64247 |  1        | \n",
       "| 4         | Vec_00000 | 164.7033  | 142.8944  |  94.31529 |  94.31529 |  1        | \n",
       "| 5         | Vec_00000 | 163.6647  | 140.9599  |  87.79234 |  87.79234 |  1        | \n",
       "\n",
       "\n"
      ],
      "text/plain": [
       "  Frame MEASUREMENT X        Y        Z         newZ      class\n",
       "1 0     Vec_00000   177.0536 199.1626  25.40681  25.40681 -1   \n",
       "2 1     Vec_00000   160.4837 136.5072 102.85232 102.85232  1   \n",
       "3 2     Vec_00000   161.3828 139.2563 103.74570 103.74570  1   \n",
       "4 3     Vec_00000   163.0884 139.4902  98.64247  98.64247  1   \n",
       "5 4     Vec_00000   164.7033 142.8944  94.31529  94.31529  1   \n",
       "6 5     Vec_00000   163.6647 140.9599  87.79234  87.79234  1   "
      ]
     },
     "metadata": {},
     "output_type": "display_data"
    },
    {
     "data": {
      "text/html": [
       "<table>\n",
       "<thead><tr><th scope=col>Frame</th><th scope=col>MEASUREMENT</th><th scope=col>X</th><th scope=col>Y</th><th scope=col>Z</th><th scope=col>newZ</th><th scope=col>class</th><th scope=col>XY_ID</th></tr></thead>\n",
       "<tbody>\n",
       "\t<tr><td>0        </td><td>Vec_00000</td><td>177.0536 </td><td>199.1626 </td><td> 25.40681</td><td> 25.40681</td><td>-1       </td><td>-2       </td></tr>\n",
       "\t<tr><td>1        </td><td>Vec_00000</td><td>160.4837 </td><td>136.5072 </td><td>102.85232</td><td>102.85232</td><td> 1       </td><td>-1       </td></tr>\n",
       "\t<tr><td>2        </td><td>Vec_00000</td><td>161.3828 </td><td>139.2563 </td><td>103.74570</td><td>103.74570</td><td> 1       </td><td>-1       </td></tr>\n",
       "\t<tr><td>3        </td><td>Vec_00000</td><td>163.0884 </td><td>139.4902 </td><td> 98.64247</td><td> 98.64247</td><td> 1       </td><td>-1       </td></tr>\n",
       "\t<tr><td>4        </td><td>Vec_00000</td><td>164.7033 </td><td>142.8944 </td><td> 94.31529</td><td> 94.31529</td><td> 1       </td><td>-1       </td></tr>\n",
       "\t<tr><td>5        </td><td>Vec_00000</td><td>163.6647 </td><td>140.9599 </td><td> 87.79234</td><td> 87.79234</td><td> 1       </td><td>-1       </td></tr>\n",
       "</tbody>\n",
       "</table>\n"
      ],
      "text/latex": [
       "\\begin{tabular}{r|llllllll}\n",
       " Frame & MEASUREMENT & X & Y & Z & newZ & class & XY\\_ID\\\\\n",
       "\\hline\n",
       "\t 0           & Vec\\_00000 & 177.0536    & 199.1626    &  25.40681   &  25.40681   & -1          & -2         \\\\\n",
       "\t 1           & Vec\\_00000 & 160.4837    & 136.5072    & 102.85232   & 102.85232   &  1          & -1         \\\\\n",
       "\t 2           & Vec\\_00000 & 161.3828    & 139.2563    & 103.74570   & 103.74570   &  1          & -1         \\\\\n",
       "\t 3           & Vec\\_00000 & 163.0884    & 139.4902    &  98.64247   &  98.64247   &  1          & -1         \\\\\n",
       "\t 4           & Vec\\_00000 & 164.7033    & 142.8944    &  94.31529   &  94.31529   &  1          & -1         \\\\\n",
       "\t 5           & Vec\\_00000 & 163.6647    & 140.9599    &  87.79234   &  87.79234   &  1          & -1         \\\\\n",
       "\\end{tabular}\n"
      ],
      "text/markdown": [
       "\n",
       "Frame | MEASUREMENT | X | Y | Z | newZ | class | XY_ID | \n",
       "|---|---|---|---|---|---|\n",
       "| 0         | Vec_00000 | 177.0536  | 199.1626  |  25.40681 |  25.40681 | -1        | -2        | \n",
       "| 1         | Vec_00000 | 160.4837  | 136.5072  | 102.85232 | 102.85232 |  1        | -1        | \n",
       "| 2         | Vec_00000 | 161.3828  | 139.2563  | 103.74570 | 103.74570 |  1        | -1        | \n",
       "| 3         | Vec_00000 | 163.0884  | 139.4902  |  98.64247 |  98.64247 |  1        | -1        | \n",
       "| 4         | Vec_00000 | 164.7033  | 142.8944  |  94.31529 |  94.31529 |  1        | -1        | \n",
       "| 5         | Vec_00000 | 163.6647  | 140.9599  |  87.79234 |  87.79234 |  1        | -1        | \n",
       "\n",
       "\n"
      ],
      "text/plain": [
       "  Frame MEASUREMENT X        Y        Z         newZ      class XY_ID\n",
       "1 0     Vec_00000   177.0536 199.1626  25.40681  25.40681 -1    -2   \n",
       "2 1     Vec_00000   160.4837 136.5072 102.85232 102.85232  1    -1   \n",
       "3 2     Vec_00000   161.3828 139.2563 103.74570 103.74570  1    -1   \n",
       "4 3     Vec_00000   163.0884 139.4902  98.64247  98.64247  1    -1   \n",
       "5 4     Vec_00000   164.7033 142.8944  94.31529  94.31529  1    -1   \n",
       "6 5     Vec_00000   163.6647 140.9599  87.79234  87.79234  1    -1   "
      ]
     },
     "metadata": {},
     "output_type": "display_data"
    },
    {
     "name": "stdout",
     "output_type": "stream",
     "text": [
      "'data.frame':\t1273572 obs. of  8 variables:\n",
      " $ Frame      : int  0 1 2 3 4 5 6 7 8 9 ...\n",
      " $ MEASUREMENT: Factor w/ 612 levels \"Vec_00000\",\"Vec_00001\",..: 1 1 1 1 1 1 1 1 1 1 ...\n",
      " $ X          : num  177 160 161 163 165 ...\n",
      " $ Y          : num  199 137 139 139 143 ...\n",
      " $ Z          : num  25.4 102.9 103.7 98.6 94.3 ...\n",
      " $ newZ       : num  25.4 102.9 103.7 98.6 94.3 ...\n",
      " $ class      : num  -1 1 1 1 1 1 1 1 1 1 ...\n",
      " $ XY_ID      : num  -2 -1 -1 -1 -1 -1 -1 -1 -1 -1 ...\n"
     ]
    }
   ],
   "source": [
    "potZdata <- read.table(\"claXYZ_pbc_p250.dat\",header=TRUE)\n",
    "potZdata%>% head\n",
    "potZdata$Z%>%summary\n",
    "str(potZdata)\n",
    "potZdata$newZ <- potZdata$Z\n",
    "\n",
    "\n",
    "m_lower = 57   \n",
    "m_upper = 66\n",
    "# Z =[56,66] is good for negative 750mV, define the boundary for bilayer and pore region maybe\n",
    "\n",
    "#potZdata$class <- (-2+((potZdata$newZ>m_lower)+(potZdata$newZ>(m_lower+m_upper)/2)+(potZdata$newZ>m_upper)))\n",
    "potZdata$class <- (-1+(potZdata$newZ> m_lower)+(potZdata$newZ> m_upper))\n",
    "potZdata %>% head\n",
    "#This part is to do the classification for the POT Z-axis values,\n",
    "#in which, below m_lower is -1, above m_upper is +1, \n",
    "#between m_lower and m_upper is 0.\n",
    "\n",
    "potZdata$XY_ID <- (-4+((potZdata$X>60) + (potZdata$X <120) + (potZdata$Y > 70) +(potZdata$Y <160)))\n",
    "potZdata %>% head\n",
    "\n",
    "\n",
    "#potZdata = potZdata[potZdata$class ==0,] # 2500frames=600ns, 212ns, NBD through Cx26 channel, 885frames.\n",
    "potZdata = potZdata[potZdata$Frame<2085,] # 2500frames=600ns, 212ns, NBD through Cx26 channel, 885frames.\n",
    "str(potZdata)\n",
    "\n",
    "#potZdata$class <- (-2+((potZdata$newZ>m_lower)+(potZdata$newZ>(m_lower+m_upper)/2)+(potZdata$newZ>m_upper)))"
   ]
  },
  {
   "cell_type": "code",
   "execution_count": 3,
   "metadata": {},
   "outputs": [
    {
     "data": {
      "text/html": [
       "<table>\n",
       "<thead><tr><th scope=col>Frame</th><th scope=col>MEASUREMENT</th><th scope=col>X</th><th scope=col>Y</th><th scope=col>class</th><th scope=col>XY_ID</th></tr></thead>\n",
       "<tbody>\n",
       "\t<tr><td>0        </td><td>Vec_00000</td><td>177.0536 </td><td>199.1626 </td><td>-1       </td><td>-2       </td></tr>\n",
       "\t<tr><td>1        </td><td>Vec_00000</td><td>160.4837 </td><td>136.5072 </td><td> 1       </td><td>-1       </td></tr>\n",
       "\t<tr><td>2        </td><td>Vec_00000</td><td>161.3828 </td><td>139.2563 </td><td> 1       </td><td>-1       </td></tr>\n",
       "\t<tr><td>3        </td><td>Vec_00000</td><td>163.0884 </td><td>139.4902 </td><td> 1       </td><td>-1       </td></tr>\n",
       "\t<tr><td>4        </td><td>Vec_00000</td><td>164.7033 </td><td>142.8944 </td><td> 1       </td><td>-1       </td></tr>\n",
       "\t<tr><td>5        </td><td>Vec_00000</td><td>163.6647 </td><td>140.9599 </td><td> 1       </td><td>-1       </td></tr>\n",
       "</tbody>\n",
       "</table>\n"
      ],
      "text/latex": [
       "\\begin{tabular}{r|llllll}\n",
       " Frame & MEASUREMENT & X & Y & class & XY\\_ID\\\\\n",
       "\\hline\n",
       "\t 0           & Vec\\_00000 & 177.0536    & 199.1626    & -1          & -2         \\\\\n",
       "\t 1           & Vec\\_00000 & 160.4837    & 136.5072    &  1          & -1         \\\\\n",
       "\t 2           & Vec\\_00000 & 161.3828    & 139.2563    &  1          & -1         \\\\\n",
       "\t 3           & Vec\\_00000 & 163.0884    & 139.4902    &  1          & -1         \\\\\n",
       "\t 4           & Vec\\_00000 & 164.7033    & 142.8944    &  1          & -1         \\\\\n",
       "\t 5           & Vec\\_00000 & 163.6647    & 140.9599    &  1          & -1         \\\\\n",
       "\\end{tabular}\n"
      ],
      "text/markdown": [
       "\n",
       "Frame | MEASUREMENT | X | Y | class | XY_ID | \n",
       "|---|---|---|---|---|---|\n",
       "| 0         | Vec_00000 | 177.0536  | 199.1626  | -1        | -2        | \n",
       "| 1         | Vec_00000 | 160.4837  | 136.5072  |  1        | -1        | \n",
       "| 2         | Vec_00000 | 161.3828  | 139.2563  |  1        | -1        | \n",
       "| 3         | Vec_00000 | 163.0884  | 139.4902  |  1        | -1        | \n",
       "| 4         | Vec_00000 | 164.7033  | 142.8944  |  1        | -1        | \n",
       "| 5         | Vec_00000 | 163.6647  | 140.9599  |  1        | -1        | \n",
       "\n",
       "\n"
      ],
      "text/plain": [
       "  Frame MEASUREMENT X        Y        class XY_ID\n",
       "1 0     Vec_00000   177.0536 199.1626 -1    -2   \n",
       "2 1     Vec_00000   160.4837 136.5072  1    -1   \n",
       "3 2     Vec_00000   161.3828 139.2563  1    -1   \n",
       "4 3     Vec_00000   163.0884 139.4902  1    -1   \n",
       "5 4     Vec_00000   164.7033 142.8944  1    -1   \n",
       "6 5     Vec_00000   163.6647 140.9599  1    -1   "
      ]
     },
     "metadata": {},
     "output_type": "display_data"
    },
    {
     "data": {
      "text/html": [
       "<table>\n",
       "<thead><tr><th scope=col>Frame</th><th scope=col>MEASUREMENT</th><th scope=col>X</th><th scope=col>Y</th><th scope=col>class</th><th scope=col>XY_ID</th><th scope=col>class_nm</th><th scope=col>change</th></tr></thead>\n",
       "<tbody>\n",
       "\t<tr><td>  0      </td><td>Vec_00000</td><td>177.0536 </td><td>199.1626 </td><td>-1       </td><td>-2       </td><td>-2       </td><td>1        </td></tr>\n",
       "\t<tr><td>  1      </td><td>Vec_00000</td><td>160.4837 </td><td>136.5072 </td><td> 1       </td><td>-1       </td><td>-1       </td><td>1        </td></tr>\n",
       "\t<tr><td>652      </td><td>Vec_00000</td><td>138.2260 </td><td>122.4232 </td><td>-1       </td><td>-1       </td><td> 1       </td><td>1        </td></tr>\n",
       "\t<tr><td>653      </td><td>Vec_00000</td><td>148.6199 </td><td>127.6420 </td><td> 1       </td><td>-1       </td><td>-1       </td><td>1        </td></tr>\n",
       "\t<tr><td>662      </td><td>Vec_00000</td><td>156.3205 </td><td>129.1623 </td><td>-1       </td><td>-1       </td><td> 1       </td><td>1        </td></tr>\n",
       "\t<tr><td>663      </td><td>Vec_00000</td><td>155.1491 </td><td>127.3615 </td><td> 1       </td><td>-1       </td><td>-1       </td><td>1        </td></tr>\n",
       "</tbody>\n",
       "</table>\n"
      ],
      "text/latex": [
       "\\begin{tabular}{r|llllllll}\n",
       " Frame & MEASUREMENT & X & Y & class & XY\\_ID & class\\_nm & change\\\\\n",
       "\\hline\n",
       "\t   0         & Vec\\_00000 & 177.0536    & 199.1626    & -1          & -2          & -2          & 1          \\\\\n",
       "\t   1         & Vec\\_00000 & 160.4837    & 136.5072    &  1          & -1          & -1          & 1          \\\\\n",
       "\t 652         & Vec\\_00000 & 138.2260    & 122.4232    & -1          & -1          &  1          & 1          \\\\\n",
       "\t 653         & Vec\\_00000 & 148.6199    & 127.6420    &  1          & -1          & -1          & 1          \\\\\n",
       "\t 662         & Vec\\_00000 & 156.3205    & 129.1623    & -1          & -1          &  1          & 1          \\\\\n",
       "\t 663         & Vec\\_00000 & 155.1491    & 127.3615    &  1          & -1          & -1          & 1          \\\\\n",
       "\\end{tabular}\n"
      ],
      "text/markdown": [
       "\n",
       "Frame | MEASUREMENT | X | Y | class | XY_ID | class_nm | change | \n",
       "|---|---|---|---|---|---|\n",
       "|   0       | Vec_00000 | 177.0536  | 199.1626  | -1        | -2        | -2        | 1         | \n",
       "|   1       | Vec_00000 | 160.4837  | 136.5072  |  1        | -1        | -1        | 1         | \n",
       "| 652       | Vec_00000 | 138.2260  | 122.4232  | -1        | -1        |  1        | 1         | \n",
       "| 653       | Vec_00000 | 148.6199  | 127.6420  |  1        | -1        | -1        | 1         | \n",
       "| 662       | Vec_00000 | 156.3205  | 129.1623  | -1        | -1        |  1        | 1         | \n",
       "| 663       | Vec_00000 | 155.1491  | 127.3615  |  1        | -1        | -1        | 1         | \n",
       "\n",
       "\n"
      ],
      "text/plain": [
       "  Frame MEASUREMENT X        Y        class XY_ID class_nm change\n",
       "1   0   Vec_00000   177.0536 199.1626 -1    -2    -2       1     \n",
       "2   1   Vec_00000   160.4837 136.5072  1    -1    -1       1     \n",
       "3 652   Vec_00000   138.2260 122.4232 -1    -1     1       1     \n",
       "4 653   Vec_00000   148.6199 127.6420  1    -1    -1       1     \n",
       "5 662   Vec_00000   156.3205 129.1623 -1    -1     1       1     \n",
       "6 663   Vec_00000   155.1491 127.3615  1    -1    -1       1     "
      ]
     },
     "metadata": {},
     "output_type": "display_data"
    }
   ],
   "source": [
    "potSelect <- filter(potZdata,potZdata$class== -1)\n",
    "#potSelect %>% head\n",
    "#potSelect$class[1]\n",
    "#write.csv(potZdata, file=\"potZdata_class.csv\")\n",
    "\n",
    "potUniq <- subset(potZdata,select = -c(Z,newZ))\n",
    "potUniq %>% head\n",
    "\n",
    "\n",
    "potSort <- potUniq %>% \n",
    "    group_by(MEASUREMENT) %>%\n",
    "     #top_n(n=-1,wt=Frame) \n",
    "    mutate(class_nm=c(class[1]-1,class[c(1:(length(class)-1))])) %>%\n",
    "    mutate(change=1.0*(abs(class-class_nm)>0)) %>%\n",
    "    filter(change==1)\n",
    "# This is to get rid of POT positions which did not change between classes, stayed in the same class.\n",
    "   \n",
    "potSort %>% head"
   ]
  },
  {
   "cell_type": "code",
   "execution_count": 4,
   "metadata": {},
   "outputs": [
    {
     "data": {
      "text/html": [
       "<table>\n",
       "<thead><tr><th scope=col>MEASUREMENT</th><th scope=col>n_size</th></tr></thead>\n",
       "<tbody>\n",
       "\t<tr><td>Vec_00000</td><td> 94      </td></tr>\n",
       "\t<tr><td>Vec_00001</td><td> 79      </td></tr>\n",
       "\t<tr><td>Vec_00002</td><td>120      </td></tr>\n",
       "\t<tr><td>Vec_00003</td><td> 98      </td></tr>\n",
       "\t<tr><td>Vec_00004</td><td> 77      </td></tr>\n",
       "\t<tr><td>Vec_00005</td><td> 70      </td></tr>\n",
       "</tbody>\n",
       "</table>\n"
      ],
      "text/latex": [
       "\\begin{tabular}{r|ll}\n",
       " MEASUREMENT & n\\_size\\\\\n",
       "\\hline\n",
       "\t Vec\\_00000 &  94        \\\\\n",
       "\t Vec\\_00001 &  79        \\\\\n",
       "\t Vec\\_00002 & 120        \\\\\n",
       "\t Vec\\_00003 &  98        \\\\\n",
       "\t Vec\\_00004 &  77        \\\\\n",
       "\t Vec\\_00005 &  70        \\\\\n",
       "\\end{tabular}\n"
      ],
      "text/markdown": [
       "\n",
       "MEASUREMENT | n_size | \n",
       "|---|---|---|---|---|---|\n",
       "| Vec_00000 |  94       | \n",
       "| Vec_00001 |  79       | \n",
       "| Vec_00002 | 120       | \n",
       "| Vec_00003 |  98       | \n",
       "| Vec_00004 |  77       | \n",
       "| Vec_00005 |  70       | \n",
       "\n",
       "\n"
      ],
      "text/plain": [
       "  MEASUREMENT n_size\n",
       "1 Vec_00000    94   \n",
       "2 Vec_00001    79   \n",
       "3 Vec_00002   120   \n",
       "4 Vec_00003    98   \n",
       "5 Vec_00004    77   \n",
       "6 Vec_00005    70   "
      ]
     },
     "metadata": {},
     "output_type": "display_data"
    }
   ],
   "source": [
    "potSize <- potSort %>%\n",
    "   group_by(MEASUREMENT) %>%\n",
    "   summarise(n_size =length(MEASUREMENT))\n",
    "potSize %>% head"
   ]
  },
  {
   "cell_type": "code",
   "execution_count": 5,
   "metadata": {},
   "outputs": [
    {
     "data": {
      "text/html": [
       "<ol class=list-inline>\n",
       "\t<li>0.432</li>\n",
       "\t<li>0.384</li>\n",
       "\t<li>0.168</li>\n",
       "\t<li>0.312</li>\n",
       "\t<li>0.264</li>\n",
       "\t<li>0.312</li>\n",
       "\t<li>0.12</li>\n",
       "\t<li>0.12</li>\n",
       "</ol>\n"
      ],
      "text/latex": [
       "\\begin{enumerate*}\n",
       "\\item 0.432\n",
       "\\item 0.384\n",
       "\\item 0.168\n",
       "\\item 0.312\n",
       "\\item 0.264\n",
       "\\item 0.312\n",
       "\\item 0.12\n",
       "\\item 0.12\n",
       "\\end{enumerate*}\n"
      ],
      "text/markdown": [
       "1. 0.432\n",
       "2. 0.384\n",
       "3. 0.168\n",
       "4. 0.312\n",
       "5. 0.264\n",
       "6. 0.312\n",
       "7. 0.12\n",
       "8. 0.12\n",
       "\n",
       "\n"
      ],
      "text/plain": [
       "[1] 0.432 0.384 0.168 0.312 0.264 0.312 0.120 0.120"
      ]
     },
     "metadata": {},
     "output_type": "display_data"
    },
    {
     "data": {
      "text/html": [
       "<ol class=list-inline>\n",
       "\t<li>13</li>\n",
       "\t<li>56</li>\n",
       "\t<li>223</li>\n",
       "\t<li>328</li>\n",
       "\t<li>557</li>\n",
       "\t<li>578</li>\n",
       "\t<li>578</li>\n",
       "\t<li>578</li>\n",
       "</ol>\n"
      ],
      "text/latex": [
       "\\begin{enumerate*}\n",
       "\\item 13\n",
       "\\item 56\n",
       "\\item 223\n",
       "\\item 328\n",
       "\\item 557\n",
       "\\item 578\n",
       "\\item 578\n",
       "\\item 578\n",
       "\\end{enumerate*}\n"
      ],
      "text/markdown": [
       "1. 13\n",
       "2. 56\n",
       "3. 223\n",
       "4. 328\n",
       "5. 557\n",
       "6. 578\n",
       "7. 578\n",
       "8. 578\n",
       "\n",
       "\n"
      ],
      "text/plain": [
       "[1]  13  56 223 328 557 578 578 578"
      ]
     },
     "metadata": {},
     "output_type": "display_data"
    },
    {
     "name": "stdout",
     "output_type": "stream",
     "text": [
      "[1] 8\n",
      "[1] 2.112\n"
     ]
    },
    {
     "data": {
      "text/html": [
       "0.264"
      ],
      "text/latex": [
       "0.264"
      ],
      "text/markdown": [
       "0.264"
      ],
      "text/plain": [
       "[1] 0.264"
      ]
     },
     "metadata": {},
     "output_type": "display_data"
    }
   ],
   "source": [
    "i =1\n",
    "timeLot = c()\n",
    "id_Lot <- c()\n",
    "tot_count =0\n",
    "time_interval=0.024\n",
    "tot_time =0\n",
    "nLev =0\n",
    "nCLA=612\n",
    "#& potSort$XY_ID[i] == 0\n",
    "for (j in 1:nCLA)  {\n",
    "    nLev = nLev + potSize$n_size[j]\n",
    "    #print(potSize$n_size[j])\n",
    "    # & potSort$XY_ID[i]==0\n",
    "   while (i< (nLev-2)) {\n",
    "       if (potSort$class[i] == 1 & potSort$class[i+1] ==0 & potSort$class[i+2]== -1  ) {\n",
    "           #if (potSort$class[i] == 1 & potSort$class[i+1] ==0 & potSort$class[i+2]== -1 & potSort$XY_ID[i+1] == 0 ) {\n",
    "        num =1\n",
    "        tot_count = num + tot_count        \n",
    "        id_Lot <- c(id_Lot,potSort$MEASUREMENT[i])         \n",
    "        #print(potSort$MEASUREMENT[i+2])\n",
    "        #print(paste(\"End Transition Event time\",potSort$Frame[i+2]))\n",
    "        #print(paste(\"Start time\",potSort$Frame[i]))\n",
    "        timeLot <- c(timeLot,(potSort$Frame[i+2]-potSort$Frame[i])*time_interval)\n",
    "        tot_time=tot_time+(potSort$Frame[i+2]-potSort$Frame[i])*time_interval\n",
    "        #print(j)\n",
    "        }\n",
    "    else {\n",
    "        tot_count = tot_count\n",
    "    }\n",
    "    i=i+1\n",
    "   }\n",
    "    #print(nLev)\n",
    "    #print(i)\n",
    "   i=i+3\n",
    "}\n",
    "timeLot \n",
    "id_Lot \n",
    "#id_Lot\n",
    "print(tot_count)\n",
    "print(tot_time)\n",
    "tot_time/tot_count"
   ]
  },
  {
   "cell_type": "code",
   "execution_count": 6,
   "metadata": {},
   "outputs": [
    {
     "data": {
      "text/html": [
       "<ol class=list-inline>\n",
       "\t<li>0.432</li>\n",
       "\t<li>0.384</li>\n",
       "\t<li>0.168</li>\n",
       "\t<li>0.312</li>\n",
       "\t<li>0.264</li>\n",
       "\t<li>0.312</li>\n",
       "\t<li>0.12</li>\n",
       "\t<li>0.12</li>\n",
       "</ol>\n"
      ],
      "text/latex": [
       "\\begin{enumerate*}\n",
       "\\item 0.432\n",
       "\\item 0.384\n",
       "\\item 0.168\n",
       "\\item 0.312\n",
       "\\item 0.264\n",
       "\\item 0.312\n",
       "\\item 0.12\n",
       "\\item 0.12\n",
       "\\end{enumerate*}\n"
      ],
      "text/markdown": [
       "1. 0.432\n",
       "2. 0.384\n",
       "3. 0.168\n",
       "4. 0.312\n",
       "5. 0.264\n",
       "6. 0.312\n",
       "7. 0.12\n",
       "8. 0.12\n",
       "\n",
       "\n"
      ],
      "text/plain": [
       "[1] 0.432 0.384 0.168 0.312 0.264 0.312 0.120 0.120"
      ]
     },
     "metadata": {},
     "output_type": "display_data"
    },
    {
     "data": {
      "text/html": [
       "8"
      ],
      "text/latex": [
       "8"
      ],
      "text/markdown": [
       "8"
      ],
      "text/plain": [
       "[1] 8"
      ]
     },
     "metadata": {},
     "output_type": "display_data"
    },
    {
     "data": {
      "text/html": [
       "2.112"
      ],
      "text/latex": [
       "2.112"
      ],
      "text/markdown": [
       "2.112"
      ],
      "text/plain": [
       "[1] 2.112"
      ]
     },
     "metadata": {},
     "output_type": "display_data"
    },
    {
     "data": {
      "text/html": [
       "0.264"
      ],
      "text/latex": [
       "0.264"
      ],
      "text/markdown": [
       "0.264"
      ],
      "text/plain": [
       "[1] 0.264"
      ]
     },
     "metadata": {},
     "output_type": "display_data"
    }
   ],
   "source": [
    "newLot <- timeLot[timeLot >0]\n",
    "newLot\n",
    "length(newLot)\n",
    "sum(newLot)\n",
    "sum(newLot)/length(newLot)"
   ]
  },
  {
   "cell_type": "code",
   "execution_count": null,
   "metadata": {},
   "outputs": [],
   "source": []
  },
  {
   "cell_type": "code",
   "execution_count": null,
   "metadata": {},
   "outputs": [],
   "source": []
  },
  {
   "cell_type": "code",
   "execution_count": null,
   "metadata": {},
   "outputs": [],
   "source": []
  }
 ],
 "metadata": {
  "kernelspec": {
   "display_name": "R",
   "language": "R",
   "name": "ir"
  },
  "language_info": {
   "codemirror_mode": "r",
   "file_extension": ".r",
   "mimetype": "text/x-r-source",
   "name": "R",
   "pygments_lexer": "r",
   "version": "3.4.2"
  }
 },
 "nbformat": 4,
 "nbformat_minor": 2
}
