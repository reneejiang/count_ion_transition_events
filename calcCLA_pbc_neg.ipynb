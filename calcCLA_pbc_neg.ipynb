{
 "cells": [
  {
   "cell_type": "code",
   "execution_count": 1,
   "metadata": {},
   "outputs": [
    {
     "name": "stderr",
     "output_type": "stream",
     "text": [
      "Loading required package: dplyr\n",
      "\n",
      "Attaching package: ‘dplyr’\n",
      "\n",
      "The following objects are masked from ‘package:stats’:\n",
      "\n",
      "    filter, lag\n",
      "\n",
      "The following objects are masked from ‘package:base’:\n",
      "\n",
      "    intersect, setdiff, setequal, union\n",
      "\n",
      "Loading required package: tibble\n",
      "Loading required package: tidyr\n",
      "Loading required package: reshape2\n",
      "\n",
      "Attaching package: ‘reshape2’\n",
      "\n",
      "The following object is masked from ‘package:tidyr’:\n",
      "\n",
      "    smiths\n",
      "\n",
      "Loading required package: ggplot2\n",
      "Loading required package: colorRamps\n"
     ]
    }
   ],
   "source": [
    "require(dplyr)\n",
    "require(tibble)\n",
    "require(tidyr)\n",
    "require(reshape2)\n",
    "require(ggplot2)\n",
    "require(colorRamps)"
   ]
  },
  {
   "cell_type": "code",
   "execution_count": 7,
   "metadata": {},
   "outputs": [
    {
     "data": {
      "text/html": [
       "<table>\n",
       "<thead><tr><th scope=col>Frame</th><th scope=col>MEASUREMENT</th><th scope=col>X</th><th scope=col>Y</th><th scope=col>Z</th></tr></thead>\n",
       "<tbody>\n",
       "\t<tr><td>0        </td><td>Vec_00000</td><td>177.0536 </td><td>199.1626 </td><td> 25.40681</td></tr>\n",
       "\t<tr><td>1        </td><td>Vec_00000</td><td>148.7968 </td><td>138.0634 </td><td>105.53223</td></tr>\n",
       "\t<tr><td>2        </td><td>Vec_00000</td><td>149.6650 </td><td>136.6408 </td><td>109.99245</td></tr>\n",
       "\t<tr><td>3        </td><td>Vec_00000</td><td>147.5652 </td><td>136.5758 </td><td>117.05359</td></tr>\n",
       "\t<tr><td>4        </td><td>Vec_00000</td><td>151.1582 </td><td>142.9804 </td><td>121.84068</td></tr>\n",
       "\t<tr><td>5        </td><td>Vec_00000</td><td>150.6513 </td><td>131.7733 </td><td>127.71510</td></tr>\n",
       "</tbody>\n",
       "</table>\n"
      ],
      "text/latex": [
       "\\begin{tabular}{r|lllll}\n",
       " Frame & MEASUREMENT & X & Y & Z\\\\\n",
       "\\hline\n",
       "\t 0           & Vec\\_00000 & 177.0536    & 199.1626    &  25.40681  \\\\\n",
       "\t 1           & Vec\\_00000 & 148.7968    & 138.0634    & 105.53223  \\\\\n",
       "\t 2           & Vec\\_00000 & 149.6650    & 136.6408    & 109.99245  \\\\\n",
       "\t 3           & Vec\\_00000 & 147.5652    & 136.5758    & 117.05359  \\\\\n",
       "\t 4           & Vec\\_00000 & 151.1582    & 142.9804    & 121.84068  \\\\\n",
       "\t 5           & Vec\\_00000 & 150.6513    & 131.7733    & 127.71510  \\\\\n",
       "\\end{tabular}\n"
      ],
      "text/markdown": [
       "\n",
       "Frame | MEASUREMENT | X | Y | Z | \n",
       "|---|---|---|---|---|---|\n",
       "| 0         | Vec_00000 | 177.0536  | 199.1626  |  25.40681 | \n",
       "| 1         | Vec_00000 | 148.7968  | 138.0634  | 105.53223 | \n",
       "| 2         | Vec_00000 | 149.6650  | 136.6408  | 109.99245 | \n",
       "| 3         | Vec_00000 | 147.5652  | 136.5758  | 117.05359 | \n",
       "| 4         | Vec_00000 | 151.1582  | 142.9804  | 121.84068 | \n",
       "| 5         | Vec_00000 | 150.6513  | 131.7733  | 127.71510 | \n",
       "\n",
       "\n"
      ],
      "text/plain": [
       "  Frame MEASUREMENT X        Y        Z        \n",
       "1 0     Vec_00000   177.0536 199.1626  25.40681\n",
       "2 1     Vec_00000   148.7968 138.0634 105.53223\n",
       "3 2     Vec_00000   149.6650 136.6408 109.99245\n",
       "4 3     Vec_00000   147.5652 136.5758 117.05359\n",
       "5 4     Vec_00000   151.1582 142.9804 121.84068\n",
       "6 5     Vec_00000   150.6513 131.7733 127.71510"
      ]
     },
     "metadata": {},
     "output_type": "display_data"
    },
    {
     "data": {
      "text/plain": [
       "     Min.   1st Qu.    Median      Mean   3rd Qu.      Max. \n",
       "  0.00011  22.45963  92.50873  73.42905 117.43644 143.59898 "
      ]
     },
     "metadata": {},
     "output_type": "display_data"
    },
    {
     "name": "stdout",
     "output_type": "stream",
     "text": [
      "'data.frame':\t1273572 obs. of  5 variables:\n",
      " $ Frame      : int  0 1 2 3 4 5 6 7 8 9 ...\n",
      " $ MEASUREMENT: Factor w/ 612 levels \"Vec_00000\",\"Vec_00001\",..: 1 1 1 1 1 1 1 1 1 1 ...\n",
      " $ X          : num  177 149 150 148 151 ...\n",
      " $ Y          : num  199 138 137 137 143 ...\n",
      " $ Z          : num  25.4 105.5 110 117.1 121.8 ...\n"
     ]
    },
    {
     "data": {
      "text/html": [
       "<table>\n",
       "<thead><tr><th scope=col>Frame</th><th scope=col>MEASUREMENT</th><th scope=col>X</th><th scope=col>Y</th><th scope=col>Z</th><th scope=col>newZ</th><th scope=col>class</th></tr></thead>\n",
       "<tbody>\n",
       "\t<tr><td>0        </td><td>Vec_00000</td><td>177.0536 </td><td>199.1626 </td><td> 25.40681</td><td> 25.40681</td><td>-1       </td></tr>\n",
       "\t<tr><td>1        </td><td>Vec_00000</td><td>148.7968 </td><td>138.0634 </td><td>105.53223</td><td>105.53223</td><td> 1       </td></tr>\n",
       "\t<tr><td>2        </td><td>Vec_00000</td><td>149.6650 </td><td>136.6408 </td><td>109.99245</td><td>109.99245</td><td> 1       </td></tr>\n",
       "\t<tr><td>3        </td><td>Vec_00000</td><td>147.5652 </td><td>136.5758 </td><td>117.05359</td><td>117.05359</td><td> 1       </td></tr>\n",
       "\t<tr><td>4        </td><td>Vec_00000</td><td>151.1582 </td><td>142.9804 </td><td>121.84068</td><td>121.84068</td><td> 1       </td></tr>\n",
       "\t<tr><td>5        </td><td>Vec_00000</td><td>150.6513 </td><td>131.7733 </td><td>127.71510</td><td>127.71510</td><td> 1       </td></tr>\n",
       "</tbody>\n",
       "</table>\n"
      ],
      "text/latex": [
       "\\begin{tabular}{r|lllllll}\n",
       " Frame & MEASUREMENT & X & Y & Z & newZ & class\\\\\n",
       "\\hline\n",
       "\t 0           & Vec\\_00000 & 177.0536    & 199.1626    &  25.40681   &  25.40681   & -1         \\\\\n",
       "\t 1           & Vec\\_00000 & 148.7968    & 138.0634    & 105.53223   & 105.53223   &  1         \\\\\n",
       "\t 2           & Vec\\_00000 & 149.6650    & 136.6408    & 109.99245   & 109.99245   &  1         \\\\\n",
       "\t 3           & Vec\\_00000 & 147.5652    & 136.5758    & 117.05359   & 117.05359   &  1         \\\\\n",
       "\t 4           & Vec\\_00000 & 151.1582    & 142.9804    & 121.84068   & 121.84068   &  1         \\\\\n",
       "\t 5           & Vec\\_00000 & 150.6513    & 131.7733    & 127.71510   & 127.71510   &  1         \\\\\n",
       "\\end{tabular}\n"
      ],
      "text/markdown": [
       "\n",
       "Frame | MEASUREMENT | X | Y | Z | newZ | class | \n",
       "|---|---|---|---|---|---|\n",
       "| 0         | Vec_00000 | 177.0536  | 199.1626  |  25.40681 |  25.40681 | -1        | \n",
       "| 1         | Vec_00000 | 148.7968  | 138.0634  | 105.53223 | 105.53223 |  1        | \n",
       "| 2         | Vec_00000 | 149.6650  | 136.6408  | 109.99245 | 109.99245 |  1        | \n",
       "| 3         | Vec_00000 | 147.5652  | 136.5758  | 117.05359 | 117.05359 |  1        | \n",
       "| 4         | Vec_00000 | 151.1582  | 142.9804  | 121.84068 | 121.84068 |  1        | \n",
       "| 5         | Vec_00000 | 150.6513  | 131.7733  | 127.71510 | 127.71510 |  1        | \n",
       "\n",
       "\n"
      ],
      "text/plain": [
       "  Frame MEASUREMENT X        Y        Z         newZ      class\n",
       "1 0     Vec_00000   177.0536 199.1626  25.40681  25.40681 -1   \n",
       "2 1     Vec_00000   148.7968 138.0634 105.53223 105.53223  1   \n",
       "3 2     Vec_00000   149.6650 136.6408 109.99245 109.99245  1   \n",
       "4 3     Vec_00000   147.5652 136.5758 117.05359 117.05359  1   \n",
       "5 4     Vec_00000   151.1582 142.9804 121.84068 121.84068  1   \n",
       "6 5     Vec_00000   150.6513 131.7733 127.71510 127.71510  1   "
      ]
     },
     "metadata": {},
     "output_type": "display_data"
    },
    {
     "data": {
      "text/html": [
       "<table>\n",
       "<thead><tr><th scope=col>Frame</th><th scope=col>MEASUREMENT</th><th scope=col>X</th><th scope=col>Y</th><th scope=col>Z</th><th scope=col>newZ</th><th scope=col>class</th><th scope=col>XY_ID</th></tr></thead>\n",
       "<tbody>\n",
       "\t<tr><td>0        </td><td>Vec_00000</td><td>177.0536 </td><td>199.1626 </td><td> 25.40681</td><td> 25.40681</td><td>-1       </td><td>-2       </td></tr>\n",
       "\t<tr><td>1        </td><td>Vec_00000</td><td>148.7968 </td><td>138.0634 </td><td>105.53223</td><td>105.53223</td><td> 1       </td><td>-1       </td></tr>\n",
       "\t<tr><td>2        </td><td>Vec_00000</td><td>149.6650 </td><td>136.6408 </td><td>109.99245</td><td>109.99245</td><td> 1       </td><td>-1       </td></tr>\n",
       "\t<tr><td>3        </td><td>Vec_00000</td><td>147.5652 </td><td>136.5758 </td><td>117.05359</td><td>117.05359</td><td> 1       </td><td>-1       </td></tr>\n",
       "\t<tr><td>4        </td><td>Vec_00000</td><td>151.1582 </td><td>142.9804 </td><td>121.84068</td><td>121.84068</td><td> 1       </td><td>-1       </td></tr>\n",
       "\t<tr><td>5        </td><td>Vec_00000</td><td>150.6513 </td><td>131.7733 </td><td>127.71510</td><td>127.71510</td><td> 1       </td><td>-1       </td></tr>\n",
       "</tbody>\n",
       "</table>\n"
      ],
      "text/latex": [
       "\\begin{tabular}{r|llllllll}\n",
       " Frame & MEASUREMENT & X & Y & Z & newZ & class & XY\\_ID\\\\\n",
       "\\hline\n",
       "\t 0           & Vec\\_00000 & 177.0536    & 199.1626    &  25.40681   &  25.40681   & -1          & -2         \\\\\n",
       "\t 1           & Vec\\_00000 & 148.7968    & 138.0634    & 105.53223   & 105.53223   &  1          & -1         \\\\\n",
       "\t 2           & Vec\\_00000 & 149.6650    & 136.6408    & 109.99245   & 109.99245   &  1          & -1         \\\\\n",
       "\t 3           & Vec\\_00000 & 147.5652    & 136.5758    & 117.05359   & 117.05359   &  1          & -1         \\\\\n",
       "\t 4           & Vec\\_00000 & 151.1582    & 142.9804    & 121.84068   & 121.84068   &  1          & -1         \\\\\n",
       "\t 5           & Vec\\_00000 & 150.6513    & 131.7733    & 127.71510   & 127.71510   &  1          & -1         \\\\\n",
       "\\end{tabular}\n"
      ],
      "text/markdown": [
       "\n",
       "Frame | MEASUREMENT | X | Y | Z | newZ | class | XY_ID | \n",
       "|---|---|---|---|---|---|\n",
       "| 0         | Vec_00000 | 177.0536  | 199.1626  |  25.40681 |  25.40681 | -1        | -2        | \n",
       "| 1         | Vec_00000 | 148.7968  | 138.0634  | 105.53223 | 105.53223 |  1        | -1        | \n",
       "| 2         | Vec_00000 | 149.6650  | 136.6408  | 109.99245 | 109.99245 |  1        | -1        | \n",
       "| 3         | Vec_00000 | 147.5652  | 136.5758  | 117.05359 | 117.05359 |  1        | -1        | \n",
       "| 4         | Vec_00000 | 151.1582  | 142.9804  | 121.84068 | 121.84068 |  1        | -1        | \n",
       "| 5         | Vec_00000 | 150.6513  | 131.7733  | 127.71510 | 127.71510 |  1        | -1        | \n",
       "\n",
       "\n"
      ],
      "text/plain": [
       "  Frame MEASUREMENT X        Y        Z         newZ      class XY_ID\n",
       "1 0     Vec_00000   177.0536 199.1626  25.40681  25.40681 -1    -2   \n",
       "2 1     Vec_00000   148.7968 138.0634 105.53223 105.53223  1    -1   \n",
       "3 2     Vec_00000   149.6650 136.6408 109.99245 109.99245  1    -1   \n",
       "4 3     Vec_00000   147.5652 136.5758 117.05359 117.05359  1    -1   \n",
       "5 4     Vec_00000   151.1582 142.9804 121.84068 121.84068  1    -1   \n",
       "6 5     Vec_00000   150.6513 131.7733 127.71510 127.71510  1    -1   "
      ]
     },
     "metadata": {},
     "output_type": "display_data"
    },
    {
     "name": "stdout",
     "output_type": "stream",
     "text": [
      "'data.frame':\t1273572 obs. of  8 variables:\n",
      " $ Frame      : int  0 1 2 3 4 5 6 7 8 9 ...\n",
      " $ MEASUREMENT: Factor w/ 612 levels \"Vec_00000\",\"Vec_00001\",..: 1 1 1 1 1 1 1 1 1 1 ...\n",
      " $ X          : num  177 149 150 148 151 ...\n",
      " $ Y          : num  199 138 137 137 143 ...\n",
      " $ Z          : num  25.4 105.5 110 117.1 121.8 ...\n",
      " $ newZ       : num  25.4 105.5 110 117.1 121.8 ...\n",
      " $ class      : num  -1 1 1 1 1 1 1 1 1 1 ...\n",
      " $ XY_ID      : num  -2 -1 -1 -1 -1 -1 -1 -1 -1 -1 ...\n"
     ]
    }
   ],
   "source": [
    "potZdata <- read.table(\"claXYZ_pbc_n250.dat\",header=TRUE)\n",
    "potZdata %>% head\n",
    "potZdata$Z %>%summary\n",
    "str(potZdata)\n",
    "potZdata$newZ <- potZdata$Z\n",
    "\n",
    "m_lower = 57   \n",
    "m_upper = 66\n",
    "# Z =[56,66] is good for negative 750mV\n",
    "\n",
    "#potZdata$class <- (-2+((potZdata$newZ>m_lower)+(potZdata$newZ>(m_lower+m_upper)/2)+(potZdata$newZ>m_upper)))\n",
    "potZdata$class <- (-1+(potZdata$newZ> m_lower)+(potZdata$newZ> m_upper))\n",
    "potZdata %>% head\n",
    "#This part is to do the classification for the POT Z-axis values,\n",
    "#in which, below m_lower is -1, above m_upper is +1, \n",
    "#between m_lower and m_upper is 0.\n",
    "\n",
    "potZdata$XY_ID <- (-4+((potZdata$X>60) + (potZdata$X <135) + (potZdata$Y > 102) +(potZdata$Y <170)))\n",
    "potZdata %>% head\n",
    "\n",
    "\n",
    "#potZdata = potZdata[potZdata$class ==0,] # 2500frames=600ns, 212ns, NBD through Cx26 channel, 885frames.\n",
    "potZdata = potZdata[potZdata$Frame<2085,] # 2500frames=600ns, 212ns, NBD through Cx26 channel, 885frames.\n",
    "str(potZdata)"
   ]
  },
  {
   "cell_type": "code",
   "execution_count": 8,
   "metadata": {},
   "outputs": [
    {
     "data": {
      "text/html": [
       "<table>\n",
       "<thead><tr><th scope=col>Frame</th><th scope=col>MEASUREMENT</th><th scope=col>X</th><th scope=col>Y</th><th scope=col>class</th><th scope=col>XY_ID</th></tr></thead>\n",
       "<tbody>\n",
       "\t<tr><td>0        </td><td>Vec_00000</td><td>177.0536 </td><td>199.1626 </td><td>-1       </td><td>-2       </td></tr>\n",
       "\t<tr><td>1        </td><td>Vec_00000</td><td>148.7968 </td><td>138.0634 </td><td> 1       </td><td>-1       </td></tr>\n",
       "\t<tr><td>2        </td><td>Vec_00000</td><td>149.6650 </td><td>136.6408 </td><td> 1       </td><td>-1       </td></tr>\n",
       "\t<tr><td>3        </td><td>Vec_00000</td><td>147.5652 </td><td>136.5758 </td><td> 1       </td><td>-1       </td></tr>\n",
       "\t<tr><td>4        </td><td>Vec_00000</td><td>151.1582 </td><td>142.9804 </td><td> 1       </td><td>-1       </td></tr>\n",
       "\t<tr><td>5        </td><td>Vec_00000</td><td>150.6513 </td><td>131.7733 </td><td> 1       </td><td>-1       </td></tr>\n",
       "</tbody>\n",
       "</table>\n"
      ],
      "text/latex": [
       "\\begin{tabular}{r|llllll}\n",
       " Frame & MEASUREMENT & X & Y & class & XY\\_ID\\\\\n",
       "\\hline\n",
       "\t 0           & Vec\\_00000 & 177.0536    & 199.1626    & -1          & -2         \\\\\n",
       "\t 1           & Vec\\_00000 & 148.7968    & 138.0634    &  1          & -1         \\\\\n",
       "\t 2           & Vec\\_00000 & 149.6650    & 136.6408    &  1          & -1         \\\\\n",
       "\t 3           & Vec\\_00000 & 147.5652    & 136.5758    &  1          & -1         \\\\\n",
       "\t 4           & Vec\\_00000 & 151.1582    & 142.9804    &  1          & -1         \\\\\n",
       "\t 5           & Vec\\_00000 & 150.6513    & 131.7733    &  1          & -1         \\\\\n",
       "\\end{tabular}\n"
      ],
      "text/markdown": [
       "\n",
       "Frame | MEASUREMENT | X | Y | class | XY_ID | \n",
       "|---|---|---|---|---|---|\n",
       "| 0         | Vec_00000 | 177.0536  | 199.1626  | -1        | -2        | \n",
       "| 1         | Vec_00000 | 148.7968  | 138.0634  |  1        | -1        | \n",
       "| 2         | Vec_00000 | 149.6650  | 136.6408  |  1        | -1        | \n",
       "| 3         | Vec_00000 | 147.5652  | 136.5758  |  1        | -1        | \n",
       "| 4         | Vec_00000 | 151.1582  | 142.9804  |  1        | -1        | \n",
       "| 5         | Vec_00000 | 150.6513  | 131.7733  |  1        | -1        | \n",
       "\n",
       "\n"
      ],
      "text/plain": [
       "  Frame MEASUREMENT X        Y        class XY_ID\n",
       "1 0     Vec_00000   177.0536 199.1626 -1    -2   \n",
       "2 1     Vec_00000   148.7968 138.0634  1    -1   \n",
       "3 2     Vec_00000   149.6650 136.6408  1    -1   \n",
       "4 3     Vec_00000   147.5652 136.5758  1    -1   \n",
       "5 4     Vec_00000   151.1582 142.9804  1    -1   \n",
       "6 5     Vec_00000   150.6513 131.7733  1    -1   "
      ]
     },
     "metadata": {},
     "output_type": "display_data"
    },
    {
     "data": {
      "text/html": [
       "<table>\n",
       "<thead><tr><th scope=col>Frame</th><th scope=col>MEASUREMENT</th><th scope=col>X</th><th scope=col>Y</th><th scope=col>class</th><th scope=col>XY_ID</th><th scope=col>class_nm</th><th scope=col>change</th></tr></thead>\n",
       "<tbody>\n",
       "\t<tr><td> 0       </td><td>Vec_00000</td><td>177.0536 </td><td>199.1626 </td><td>-1       </td><td>-2       </td><td>-2       </td><td>1        </td></tr>\n",
       "\t<tr><td> 1       </td><td>Vec_00000</td><td>148.7968 </td><td>138.0634 </td><td> 1       </td><td>-1       </td><td>-1       </td><td>1        </td></tr>\n",
       "\t<tr><td>10       </td><td>Vec_00000</td><td>144.7763 </td><td>121.3107 </td><td>-1       </td><td>-1       </td><td> 1       </td><td>1        </td></tr>\n",
       "\t<tr><td>12       </td><td>Vec_00000</td><td>145.3211 </td><td>127.9200 </td><td> 1       </td><td>-1       </td><td>-1       </td><td>1        </td></tr>\n",
       "\t<tr><td>13       </td><td>Vec_00000</td><td>146.2304 </td><td>127.6255 </td><td>-1       </td><td>-1       </td><td> 1       </td><td>1        </td></tr>\n",
       "\t<tr><td>26       </td><td>Vec_00000</td><td>137.4186 </td><td>129.3781 </td><td> 1       </td><td>-1       </td><td>-1       </td><td>1        </td></tr>\n",
       "</tbody>\n",
       "</table>\n"
      ],
      "text/latex": [
       "\\begin{tabular}{r|llllllll}\n",
       " Frame & MEASUREMENT & X & Y & class & XY\\_ID & class\\_nm & change\\\\\n",
       "\\hline\n",
       "\t  0          & Vec\\_00000 & 177.0536    & 199.1626    & -1          & -2          & -2          & 1          \\\\\n",
       "\t  1          & Vec\\_00000 & 148.7968    & 138.0634    &  1          & -1          & -1          & 1          \\\\\n",
       "\t 10          & Vec\\_00000 & 144.7763    & 121.3107    & -1          & -1          &  1          & 1          \\\\\n",
       "\t 12          & Vec\\_00000 & 145.3211    & 127.9200    &  1          & -1          & -1          & 1          \\\\\n",
       "\t 13          & Vec\\_00000 & 146.2304    & 127.6255    & -1          & -1          &  1          & 1          \\\\\n",
       "\t 26          & Vec\\_00000 & 137.4186    & 129.3781    &  1          & -1          & -1          & 1          \\\\\n",
       "\\end{tabular}\n"
      ],
      "text/markdown": [
       "\n",
       "Frame | MEASUREMENT | X | Y | class | XY_ID | class_nm | change | \n",
       "|---|---|---|---|---|---|\n",
       "|  0        | Vec_00000 | 177.0536  | 199.1626  | -1        | -2        | -2        | 1         | \n",
       "|  1        | Vec_00000 | 148.7968  | 138.0634  |  1        | -1        | -1        | 1         | \n",
       "| 10        | Vec_00000 | 144.7763  | 121.3107  | -1        | -1        |  1        | 1         | \n",
       "| 12        | Vec_00000 | 145.3211  | 127.9200  |  1        | -1        | -1        | 1         | \n",
       "| 13        | Vec_00000 | 146.2304  | 127.6255  | -1        | -1        |  1        | 1         | \n",
       "| 26        | Vec_00000 | 137.4186  | 129.3781  |  1        | -1        | -1        | 1         | \n",
       "\n",
       "\n"
      ],
      "text/plain": [
       "  Frame MEASUREMENT X        Y        class XY_ID class_nm change\n",
       "1  0    Vec_00000   177.0536 199.1626 -1    -2    -2       1     \n",
       "2  1    Vec_00000   148.7968 138.0634  1    -1    -1       1     \n",
       "3 10    Vec_00000   144.7763 121.3107 -1    -1     1       1     \n",
       "4 12    Vec_00000   145.3211 127.9200  1    -1    -1       1     \n",
       "5 13    Vec_00000   146.2304 127.6255 -1    -1     1       1     \n",
       "6 26    Vec_00000   137.4186 129.3781  1    -1    -1       1     "
      ]
     },
     "metadata": {},
     "output_type": "display_data"
    }
   ],
   "source": [
    "potSelect <- filter(potZdata,potZdata$class== -1)\n",
    "#potSelect %>% head\n",
    "#potSelect$class[1]\n",
    "#write.csv(potZdata, file=\"potZdata_class.csv\")\n",
    "\n",
    "potUniq <- subset(potZdata,select = -c(Z,newZ))\n",
    "potUniq %>% head\n",
    "\n",
    "\n",
    "potSort <- potUniq %>% \n",
    "    group_by(MEASUREMENT) %>%\n",
    "     #top_n(n=-1,wt=Frame) \n",
    "## class[1]-1 and merge with class[1] to class[len(class)-1], shift 1 row to get change coloum\n",
    "    mutate(class_nm=c(class[1]-1,class[c(1:(length(class)-1))])) %>%\n",
    "    mutate(change=1.0*(abs(class-class_nm)>0)) %>%\n",
    "    filter(change==1)\n",
    "# This is to get rid of POT positions which did not change between classes, stayed in the same class.\n",
    "   \n",
    "potSort %>% head"
   ]
  },
  {
   "cell_type": "code",
   "execution_count": 9,
   "metadata": {},
   "outputs": [
    {
     "data": {
      "text/html": [
       "<table>\n",
       "<thead><tr><th scope=col>MEASUREMENT</th><th scope=col>n_size</th></tr></thead>\n",
       "<tbody>\n",
       "\t<tr><td>Vec_00000</td><td> 86      </td></tr>\n",
       "\t<tr><td>Vec_00001</td><td>124      </td></tr>\n",
       "\t<tr><td>Vec_00002</td><td> 99      </td></tr>\n",
       "\t<tr><td>Vec_00003</td><td>117      </td></tr>\n",
       "\t<tr><td>Vec_00004</td><td> 85      </td></tr>\n",
       "\t<tr><td>Vec_00005</td><td>110      </td></tr>\n",
       "</tbody>\n",
       "</table>\n"
      ],
      "text/latex": [
       "\\begin{tabular}{r|ll}\n",
       " MEASUREMENT & n\\_size\\\\\n",
       "\\hline\n",
       "\t Vec\\_00000 &  86        \\\\\n",
       "\t Vec\\_00001 & 124        \\\\\n",
       "\t Vec\\_00002 &  99        \\\\\n",
       "\t Vec\\_00003 & 117        \\\\\n",
       "\t Vec\\_00004 &  85        \\\\\n",
       "\t Vec\\_00005 & 110        \\\\\n",
       "\\end{tabular}\n"
      ],
      "text/markdown": [
       "\n",
       "MEASUREMENT | n_size | \n",
       "|---|---|---|---|---|---|\n",
       "| Vec_00000 |  86       | \n",
       "| Vec_00001 | 124       | \n",
       "| Vec_00002 |  99       | \n",
       "| Vec_00003 | 117       | \n",
       "| Vec_00004 |  85       | \n",
       "| Vec_00005 | 110       | \n",
       "\n",
       "\n"
      ],
      "text/plain": [
       "  MEASUREMENT n_size\n",
       "1 Vec_00000    86   \n",
       "2 Vec_00001   124   \n",
       "3 Vec_00002    99   \n",
       "4 Vec_00003   117   \n",
       "5 Vec_00004    85   \n",
       "6 Vec_00005   110   "
      ]
     },
     "metadata": {},
     "output_type": "display_data"
    },
    {
     "name": "stdout",
     "output_type": "stream",
     "text": [
      "Classes ‘tbl_df’, ‘tbl’ and 'data.frame':\t612 obs. of  2 variables:\n",
      " $ MEASUREMENT: Factor w/ 612 levels \"Vec_00000\",\"Vec_00001\",..: 1 2 3 4 5 6 7 8 9 10 ...\n",
      " $ n_size     : int  86 124 99 117 85 110 112 45 104 125 ...\n"
     ]
    }
   ],
   "source": [
    "potSize <- potSort %>%\n",
    "   group_by(MEASUREMENT) %>%\n",
    "   summarise(n_size =length(MEASUREMENT))\n",
    "potSize %>% head\n",
    "str(potSize)"
   ]
  },
  {
   "cell_type": "code",
   "execution_count": 12,
   "metadata": {},
   "outputs": [
    {
     "data": {
      "text/plain": [
       "NULL"
      ]
     },
     "metadata": {},
     "output_type": "display_data"
    },
    {
     "data": {
      "text/plain": [
       "NULL"
      ]
     },
     "metadata": {},
     "output_type": "display_data"
    },
    {
     "name": "stdout",
     "output_type": "stream",
     "text": [
      "[1] 0\n",
      "[1] 0\n"
     ]
    },
    {
     "data": {
      "text/html": [
       "NaN"
      ],
      "text/latex": [
       "NaN"
      ],
      "text/markdown": [
       "NaN"
      ],
      "text/plain": [
       "[1] NaN"
      ]
     },
     "metadata": {},
     "output_type": "display_data"
    }
   ],
   "source": [
    "i =1\n",
    "timeLot = c()\n",
    "id_Lot <- c()\n",
    "tot_count =0\n",
    "time_interval=0.024\n",
    "tot_time =0\n",
    "nLev =0\n",
    "nCLA=612\n",
    "#& potSort$XY_ID[i] == 0\n",
    "for (j in 1:nCLA)  {\n",
    "    nLev = nLev + potSize$n_size[j]\n",
    "    #print(potSize$n_size[j])\n",
    "    # & potSort$XY_ID[i]==0\n",
    "   while (i< (nLev-2)) {\n",
    "       #if (potSort$class[i] == -1 & potSort$class[i+1] ==0 & potSort$class[i+2]== 1 & potSort$XY_ID[i+1] == 0 ) {\n",
    "       if (potSort$class[i] == 1 & potSort$class[i+1] ==0 & potSort$class[i+2]== -1 & potSort$XY_ID[i+1] == 0 ) {\n",
    "        num =1\n",
    "        tot_count = num + tot_count        \n",
    "        id_Lot <- c(id_Lot,potSort$MEASUREMENT[i])         \n",
    "        #print(potSort$MEASUREMENT[i+2])\n",
    "        #print(paste(\"End Transition Event time\",potSort$Frame[i+2]))\n",
    "        #print(paste(\"Start time\",potSort$Frame[i]))\n",
    "        timeLot <- c(timeLot,(potSort$Frame[i+2]-potSort$Frame[i])*time_interval)\n",
    "        tot_time=tot_time+(potSort$Frame[i+2]-potSort$Frame[i])*time_interval\n",
    "        #print(j)\n",
    "        }\n",
    "    else {\n",
    "        tot_count = tot_count\n",
    "    }\n",
    "    i=i+1\n",
    "   }\n",
    "    #print(nLev)\n",
    "    #print(i)\n",
    "   i=i+3\n",
    "}\n",
    "timeLot \n",
    "id_Lot \n",
    "#id_Lot\n",
    "print(tot_count)\n",
    "print(tot_time)\n",
    "tot_time/tot_count"
   ]
  },
  {
   "cell_type": "code",
   "execution_count": 11,
   "metadata": {},
   "outputs": [
    {
     "data": {
      "text/plain": [
       "NULL"
      ]
     },
     "metadata": {},
     "output_type": "display_data"
    },
    {
     "data": {
      "text/html": [
       "0"
      ],
      "text/latex": [
       "0"
      ],
      "text/markdown": [
       "0"
      ],
      "text/plain": [
       "[1] 0"
      ]
     },
     "metadata": {},
     "output_type": "display_data"
    },
    {
     "data": {
      "text/html": [
       "0"
      ],
      "text/latex": [
       "0"
      ],
      "text/markdown": [
       "0"
      ],
      "text/plain": [
       "[1] 0"
      ]
     },
     "metadata": {},
     "output_type": "display_data"
    },
    {
     "data": {
      "text/html": [
       "NaN"
      ],
      "text/latex": [
       "NaN"
      ],
      "text/markdown": [
       "NaN"
      ],
      "text/plain": [
       "[1] NaN"
      ]
     },
     "metadata": {},
     "output_type": "display_data"
    }
   ],
   "source": [
    "newLot <- timeLot[timeLot >0]\n",
    "newLot\n",
    "\n",
    "length(newLot)\n",
    "sum(newLot)\n",
    "sum(newLot)/length(newLot)"
   ]
  },
  {
   "cell_type": "code",
   "execution_count": null,
   "metadata": {},
   "outputs": [],
   "source": []
  },
  {
   "cell_type": "code",
   "execution_count": null,
   "metadata": {},
   "outputs": [],
   "source": []
  },
  {
   "cell_type": "code",
   "execution_count": null,
   "metadata": {},
   "outputs": [],
   "source": []
  }
 ],
 "metadata": {
  "kernelspec": {
   "display_name": "R",
   "language": "R",
   "name": "ir"
  },
  "language_info": {
   "codemirror_mode": "r",
   "file_extension": ".r",
   "mimetype": "text/x-r-source",
   "name": "R",
   "pygments_lexer": "r",
   "version": "3.4.2"
  }
 },
 "nbformat": 4,
 "nbformat_minor": 2
}
