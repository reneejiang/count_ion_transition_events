{
 "cells": [
  {
   "cell_type": "code",
   "execution_count": 1,
   "metadata": {},
   "outputs": [],
   "source": [
    "import pytraj as pt\n",
    "import numpy as np\n",
    "import pandas as pd\n",
    "import ggplot\n",
    "from ggplot import *"
   ]
  },
  {
   "cell_type": "code",
   "execution_count": 2,
   "metadata": {},
   "outputs": [
    {
     "name": "stdout",
     "output_type": "stream",
     "text": [
      "/home/wenjuan/work/protein/Piezo/revese_anton2/ely_posre/12us_pip2/2fr_ext100ns/lastFrame2us\r\n"
     ]
    }
   ],
   "source": [
    "!pwd"
   ]
  },
  {
   "cell_type": "code",
   "execution_count": 3,
   "metadata": {},
   "outputs": [
    {
     "data": {
      "text/plain": [
       "pytraj.TrajectoryIterator, 6248 frames: \n",
       "Size: 97.000000 (GB)\n",
       "<Topology: 700063 atoms, 166448 residues, 162206 mols, PBC with box type = ortho>\n",
       "           "
      ]
     },
     "execution_count": 3,
     "metadata": {},
     "output_type": "execute_result"
    }
   ],
   "source": [
    "trajFileName=\"./tension14mM_calcium_highConc/n750mV/150ns.f6248.align.dcd\"\n",
    "#trajFileName=\"./tension14mM_rmLip_p500mV/p500mV.align.unwrap.dcd\"\n",
    "#trajFileName=\"./tension14mM_rmLip_p750mV/p750mV.align.unwrap.dcd\"\n",
    "#trajFileName=\"./mutaE2133nocharge/5bar_n750mV/50ns.f2085.align.unwrap.dcd\"\n",
    "#topFileName=\"./mutaE2133nocharge/topol.parm7\"\n",
    "topFileName=\"./tension14mM_calcium_highConc/topol.parm7\"\n",
    "\n",
    "iterTraj = pt.iterload(trajFileName,top=topFileName)\n",
    "iterTraj"
   ]
  },
  {
   "cell_type": "code",
   "execution_count": 4,
   "metadata": {},
   "outputs": [
    {
     "name": "stdout",
     "output_type": "stream",
     "text": [
      "(692,)\n",
      "(695,)\n",
      "(347,)\n"
     ]
    }
   ],
   "source": [
    "#np.arange(1,3)\n",
    "print np.shape(np.arange(165491,166183)) # total POT\n",
    "print np.shape(np.arange(165491,166186)) # total POT\n",
    "print np.shape(np.arange(165491,165838)) # total CAL"
   ]
  },
  {
   "cell_type": "code",
   "execution_count": 6,
   "metadata": {},
   "outputs": [
    {
     "name": "stdout",
     "output_type": "stream",
     "text": [
      "vector center :165494\n",
      "(347,)\n"
     ]
    }
   ],
   "source": [
    "\n",
    "commandList=[]\n",
    "#for potID in np.arange(165896,166041): #CAL case, for CAL count\n",
    "for potID in np.arange(165491,165838): #CAL case, all CAL\n",
    "#for potID in np.arange(165491,166186):\n",
    "#for potID in np.arange(165491,166183):\n",
    "    potMask=\":\"+str(potID)\n",
    "    potCommand=\"vector center \"+potMask\n",
    "    commandList.append(potCommand)\n",
    "    \n",
    "print commandList[3]\n",
    "print np.shape(commandList)"
   ]
  },
  {
   "cell_type": "code",
   "execution_count": 7,
   "metadata": {},
   "outputs": [],
   "source": [
    "#?pt.compute()\n",
    "#?shape()"
   ]
  },
  {
   "cell_type": "code",
   "execution_count": 8,
   "metadata": {},
   "outputs": [],
   "source": [
    "nCores=8\n",
    "potCOMdata=pt.compute(commandList,iterTraj,n_cores=nCores)\n",
    "#potCOMdata"
   ]
  },
  {
   "cell_type": "code",
   "execution_count": 9,
   "metadata": {},
   "outputs": [
    {
     "data": {
      "text/html": [
       "<div>\n",
       "<table border=\"1\" class=\"dataframe\">\n",
       "  <thead>\n",
       "    <tr style=\"text-align: right;\">\n",
       "      <th></th>\n",
       "      <th>Frame</th>\n",
       "      <th>MEASUREMENT</th>\n",
       "      <th>X</th>\n",
       "      <th>Y</th>\n",
       "      <th>Z</th>\n",
       "    </tr>\n",
       "  </thead>\n",
       "  <tbody>\n",
       "    <tr>\n",
       "      <th>2000</th>\n",
       "      <td>2000</td>\n",
       "      <td>Vec_00000</td>\n",
       "      <td>5.589893</td>\n",
       "      <td>109.680038</td>\n",
       "      <td>142.232178</td>\n",
       "    </tr>\n",
       "    <tr>\n",
       "      <th>2001</th>\n",
       "      <td>2001</td>\n",
       "      <td>Vec_00000</td>\n",
       "      <td>4.803670</td>\n",
       "      <td>114.147018</td>\n",
       "      <td>142.490540</td>\n",
       "    </tr>\n",
       "    <tr>\n",
       "      <th>2002</th>\n",
       "      <td>2002</td>\n",
       "      <td>Vec_00000</td>\n",
       "      <td>5.666733</td>\n",
       "      <td>117.556717</td>\n",
       "      <td>141.744156</td>\n",
       "    </tr>\n",
       "    <tr>\n",
       "      <th>2003</th>\n",
       "      <td>2003</td>\n",
       "      <td>Vec_00000</td>\n",
       "      <td>7.008054</td>\n",
       "      <td>115.455009</td>\n",
       "      <td>3.063773</td>\n",
       "    </tr>\n",
       "    <tr>\n",
       "      <th>2004</th>\n",
       "      <td>2004</td>\n",
       "      <td>Vec_00000</td>\n",
       "      <td>6.916626</td>\n",
       "      <td>118.330223</td>\n",
       "      <td>4.926808</td>\n",
       "    </tr>\n",
       "    <tr>\n",
       "      <th>2005</th>\n",
       "      <td>2005</td>\n",
       "      <td>Vec_00000</td>\n",
       "      <td>13.186632</td>\n",
       "      <td>116.725433</td>\n",
       "      <td>4.501493</td>\n",
       "    </tr>\n",
       "  </tbody>\n",
       "</table>\n",
       "</div>"
      ],
      "text/plain": [
       "      Frame MEASUREMENT          X           Y           Z\n",
       "2000   2000   Vec_00000   5.589893  109.680038  142.232178\n",
       "2001   2001   Vec_00000   4.803670  114.147018  142.490540\n",
       "2002   2002   Vec_00000   5.666733  117.556717  141.744156\n",
       "2003   2003   Vec_00000   7.008054  115.455009    3.063773\n",
       "2004   2004   Vec_00000   6.916626  118.330223    4.926808\n",
       "2005   2005   Vec_00000  13.186632  116.725433    4.501493"
      ]
     },
     "execution_count": 9,
     "metadata": {},
     "output_type": "execute_result"
    }
   ],
   "source": [
    "potDataFrames=[]\n",
    "for potSet in potCOMdata:\n",
    "    potData = potCOMdata[potSet]\n",
    "    nFrames=potData.shape[0]\n",
    "    potDataFrame=pd.DataFrame({\n",
    "            'MEASUREMENT':[potSet]*nFrames,\n",
    "            'Frame':np.arange(nFrames),\n",
    "            'X':potData[:,0],\n",
    "            'Y':potData[:,1],\n",
    "            'Z':potData[:,2]\n",
    "        })\n",
    "    potDataFrames.append(potDataFrame)\n",
    "    \n",
    "potZdataFrame=pd.concat(potDataFrames)\n",
    "potZdataFrame[2000:2006]"
   ]
  },
  {
   "cell_type": "code",
   "execution_count": 10,
   "metadata": {},
   "outputs": [
    {
     "data": {
      "text/plain": [
       "u'Vec_00346'"
      ]
     },
     "execution_count": 10,
     "metadata": {},
     "output_type": "execute_result"
    }
   ],
   "source": [
    "potSet"
   ]
  },
  {
   "cell_type": "code",
   "execution_count": 11,
   "metadata": {},
   "outputs": [],
   "source": [
    "#print np.shape(potZdataFrame)\n",
    "#subsetZ=potZdataFrame[(potZdataFrame.X>61.08) & (potZdataFrame.X <134.68)\n",
    "#                    & (potZdataFrame.Y >100.42) & (potZdataFrame.Y< 167.56)]\n",
    "#print np.shape(subsetZ)\n",
    "#subsetZ"
   ]
  },
  {
   "cell_type": "code",
   "execution_count": 12,
   "metadata": {},
   "outputs": [],
   "source": [
    "#potdataZFrame=subsetZ[['Frame','MEASUREMENT','Z']]\n",
    "#print potdataZFrame[1:5]"
   ]
  },
  {
   "cell_type": "code",
   "execution_count": 40,
   "metadata": {},
   "outputs": [],
   "source": [
    "#?pd.DataFrame.to_csv()"
   ]
  },
  {
   "cell_type": "code",
   "execution_count": 13,
   "metadata": {},
   "outputs": [],
   "source": [
    "potZdataFrame.to_csv(\"calciumOnly_calXYZ_pbc_n750_tot.dat\",index=False,sep=\" \")\n",
    "#commandList.to_csv(\"comlist_pot.dat\",index=False,sep=\" \")"
   ]
  },
  {
   "cell_type": "code",
   "execution_count": 13,
   "metadata": {},
   "outputs": [],
   "source": [
    "#ggplot(aes(x='Frame',y='Z',color='MEASUREMENT'),data=potZdataFrame) +\\\n",
    "    #geom_line()"
   ]
  },
  {
   "cell_type": "code",
   "execution_count": 14,
   "metadata": {},
   "outputs": [
    {
     "data": {
      "text/html": [
       "<div>\n",
       "<table border=\"1\" class=\"dataframe\">\n",
       "  <thead>\n",
       "    <tr style=\"text-align: right;\">\n",
       "      <th></th>\n",
       "      <th>Frame</th>\n",
       "      <th>MEASUREMENT</th>\n",
       "      <th>Z</th>\n",
       "    </tr>\n",
       "  </thead>\n",
       "  <tbody>\n",
       "    <tr>\n",
       "      <th>0</th>\n",
       "      <td>0</td>\n",
       "      <td>Vec_00000</td>\n",
       "      <td>10.275660</td>\n",
       "    </tr>\n",
       "    <tr>\n",
       "      <th>1</th>\n",
       "      <td>1</td>\n",
       "      <td>Vec_00000</td>\n",
       "      <td>6.052778</td>\n",
       "    </tr>\n",
       "    <tr>\n",
       "      <th>2</th>\n",
       "      <td>2</td>\n",
       "      <td>Vec_00000</td>\n",
       "      <td>5.128647</td>\n",
       "    </tr>\n",
       "    <tr>\n",
       "      <th>3</th>\n",
       "      <td>3</td>\n",
       "      <td>Vec_00000</td>\n",
       "      <td>9.541847</td>\n",
       "    </tr>\n",
       "    <tr>\n",
       "      <th>4</th>\n",
       "      <td>4</td>\n",
       "      <td>Vec_00000</td>\n",
       "      <td>14.426311</td>\n",
       "    </tr>\n",
       "    <tr>\n",
       "      <th>5</th>\n",
       "      <td>5</td>\n",
       "      <td>Vec_00000</td>\n",
       "      <td>9.912954</td>\n",
       "    </tr>\n",
       "    <tr>\n",
       "      <th>6</th>\n",
       "      <td>6</td>\n",
       "      <td>Vec_00000</td>\n",
       "      <td>19.168713</td>\n",
       "    </tr>\n",
       "    <tr>\n",
       "      <th>7</th>\n",
       "      <td>7</td>\n",
       "      <td>Vec_00000</td>\n",
       "      <td>21.031132</td>\n",
       "    </tr>\n",
       "    <tr>\n",
       "      <th>8</th>\n",
       "      <td>8</td>\n",
       "      <td>Vec_00000</td>\n",
       "      <td>22.221909</td>\n",
       "    </tr>\n",
       "  </tbody>\n",
       "</table>\n",
       "</div>"
      ],
      "text/plain": [
       "   Frame MEASUREMENT          Z\n",
       "0      0   Vec_00000  10.275660\n",
       "1      1   Vec_00000   6.052778\n",
       "2      2   Vec_00000   5.128647\n",
       "3      3   Vec_00000   9.541847\n",
       "4      4   Vec_00000  14.426311\n",
       "5      5   Vec_00000   9.912954\n",
       "6      6   Vec_00000  19.168713\n",
       "7      7   Vec_00000  21.031132\n",
       "8      8   Vec_00000  22.221909"
      ]
     },
     "execution_count": 14,
     "metadata": {},
     "output_type": "execute_result"
    }
   ],
   "source": [
    "potDataZFrames=[]\n",
    "for potaSet in potCOMdata:\n",
    "    potData = potCOMdata[potaSet]\n",
    "    nFrames=potData.shape[0]\n",
    "    potDataZFrame=pd.DataFrame({\n",
    "            'MEASUREMENT':[potaSet]*nFrames,\n",
    "            'Frame':np.arange(nFrames),\n",
    "            'Z':potData[:,2]\n",
    "        })\n",
    "    potDataZFrames.append(potDataZFrame)\n",
    "    \n",
    "potdataZFrame=pd.concat(potDataZFrames)\n",
    "potdataZFrame[0:9]"
   ]
  },
  {
   "cell_type": "code",
   "execution_count": 15,
   "metadata": {},
   "outputs": [],
   "source": [
    "potdataZFrame.to_csv(\"muta_pot_Z_unwrap_n750.dat\",index=False,sep=\" \")"
   ]
  },
  {
   "cell_type": "code",
   "execution_count": null,
   "metadata": {
    "collapsed": true
   },
   "outputs": [],
   "source": []
  }
 ],
 "metadata": {
  "anaconda-cloud": {},
  "kernelspec": {
   "display_name": "Python 2",
   "language": "python",
   "name": "python2"
  },
  "language_info": {
   "codemirror_mode": {
    "name": "ipython",
    "version": 2
   },
   "file_extension": ".py",
   "mimetype": "text/x-python",
   "name": "python",
   "nbconvert_exporter": "python",
   "pygments_lexer": "ipython2",
   "version": "2.7.15"
  }
 },
 "nbformat": 4,
 "nbformat_minor": 2
}
